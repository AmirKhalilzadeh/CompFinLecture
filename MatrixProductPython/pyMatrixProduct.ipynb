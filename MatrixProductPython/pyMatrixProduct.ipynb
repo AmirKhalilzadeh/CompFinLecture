{
 "cells": [
  {
   "cell_type": "code",
   "execution_count": 42,
   "metadata": {},
   "outputs": [],
   "source": [
    "import numpy as np\n",
    "import time\n",
    "\n",
    "Na = 200\n",
    "Ma = 200\n",
    "\n",
    "Nb = 200\n",
    "Mb = 200\n",
    "\n",
    "a = np.random.rand(Na, Ma)\n",
    "b = np.random.rand(Nb, Mb)"
   ]
  },
  {
   "cell_type": "code",
   "execution_count": 43,
   "metadata": {},
   "outputs": [],
   "source": [
    "def pyMp(a, b):\n",
    "    \n",
    "    na, ma = a.shape\n",
    "    nb, mb = b.shape\n",
    "    c = np.zeros((na, mb,))\n",
    "    \n",
    "    for i in range(na):\n",
    "        for j in range(mb):\n",
    "            for k in range(na):\n",
    "                c[i,j] += a[i,k] * b[k, j]\n",
    "    return c"
   ]
  },
  {
   "cell_type": "code",
   "execution_count": 44,
   "metadata": {},
   "outputs": [
    {
     "name": "stdout",
     "output_type": "stream",
     "text": [
      "4.078136682510376\n"
     ]
    }
   ],
   "source": [
    "t1 = time.time()\n",
    "c = pyMp(a, b)\n",
    "t2 = time.time()\n",
    "print(t2 - t1)"
   ]
  },
  {
   "cell_type": "code",
   "execution_count": 46,
   "metadata": {},
   "outputs": [
    {
     "name": "stdout",
     "output_type": "stream",
     "text": [
      "0.0009975433349609375\n"
     ]
    }
   ],
   "source": [
    "t1 = time.time()\n",
    "c = a.dot(b)\n",
    "t2 = time.time()\n",
    "print(t2 - t1)"
   ]
  },
  {
   "cell_type": "code",
   "execution_count": 51,
   "metadata": {},
   "outputs": [
    {
     "name": "stdout",
     "output_type": "stream",
     "text": [
      "0.029923439025878906\n"
     ]
    }
   ],
   "source": [
    "Na = 1000\n",
    "Ma = 1000\n",
    "\n",
    "Nb = 1000\n",
    "Mb = 1000\n",
    "\n",
    "a = np.random.rand(Na, Ma)\n",
    "b = np.random.rand(Nb, Mb)\n",
    "\n",
    "t1 = time.time()\n",
    "c = a.dot(b)\n",
    "t2 = time.time()\n",
    "print(t2 - t1)"
   ]
  },
  {
   "cell_type": "code",
   "execution_count": 57,
   "metadata": {},
   "outputs": [
    {
     "name": "stdout",
     "output_type": "stream",
     "text": [
      "2.0315306186676025\n"
     ]
    }
   ],
   "source": [
    "Na = 5000\n",
    "Ma = 5000\n",
    "\n",
    "Nb = 5000\n",
    "Mb = 5000\n",
    "\n",
    "a = np.random.rand(Na, Ma)\n",
    "b = np.random.rand(Nb, Mb)\n",
    "\n",
    "t1 = time.time()\n",
    "c = a.dot(b)\n",
    "t2 = time.time()\n",
    "print(t2 - t1)"
   ]
  },
  {
   "cell_type": "code",
   "execution_count": 17,
   "metadata": {},
   "outputs": [
    {
     "data": {
      "text/plain": [
       "122.03746311548194"
      ]
     },
     "execution_count": 17,
     "metadata": {},
     "output_type": "execute_result"
    }
   ],
   "source": [
    "a[1]"
   ]
  },
  {
   "cell_type": "code",
   "execution_count": null,
   "metadata": {},
   "outputs": [],
   "source": []
  }
 ],
 "metadata": {
  "kernelspec": {
   "display_name": "Python 3",
   "language": "python",
   "name": "python3"
  },
  "language_info": {
   "codemirror_mode": {
    "name": "ipython",
    "version": 3
   },
   "file_extension": ".py",
   "mimetype": "text/x-python",
   "name": "python",
   "nbconvert_exporter": "python",
   "pygments_lexer": "ipython3",
   "version": "3.7.4"
  }
 },
 "nbformat": 4,
 "nbformat_minor": 2
}
